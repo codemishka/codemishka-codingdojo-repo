{
 "cells": [
  {
   "cell_type": "markdown",
   "id": "d2cef1a9",
   "metadata": {},
   "source": [
    "## Problem Statement"
   ]
  },
  {
   "cell_type": "markdown",
   "id": "fe8b25c5",
   "metadata": {},
   "source": [
    "**Business Problem:**\n",
    "You are hired to produce a MySQL database on Movies from a subset of IMDB's publicly available dataset. The ultimate goal is to analyze what makes a movie successful and provide recommendations to the stakeholder on how to make a successful movie."
   ]
  },
  {
   "cell_type": "markdown",
   "id": "30827894",
   "metadata": {},
   "source": [
    "**Project Overview:**\n",
    "    \n",
    "**Part 1**: Download several files from IMDB’s movie data set and filter out the subset of moves requested by the stakeholder.\n",
    "   \n",
    "**Part 2:** Use an API to extract box office revenue and profit data to add to your IMDB data and perform exploratory data analysis.\n",
    "    \n",
    "**Part 3:** Construct and export a MySQL database using your data.\n",
    "\n",
    "**Part 4:** Apply hypothesis testing to explore what makes a movie successful"
   ]
  },
  {
   "cell_type": "markdown",
   "id": "2a9dd32a",
   "metadata": {},
   "source": [
    "**Questions to Answer:**\n",
    "\n",
    "**1.Primary Question:** Does the MPAA rating of a movie (G/PG/PG-13/R) affect how much revenue the movie generates?\n",
    "\n",
    "Perform a statistical test to get a mathematically-supported answer.\n",
    "Report if you found a significant difference between ratings.\n",
    "Provide the p-value of your analysis.\n",
    "Determine which rating earns the most revenue.\n",
    "Prepare a visualization that supports your finding.\n",
    "\n",
    "\n",
    "**2. Additional Hypotheses:**\n",
    "\n",
    "Think of two additional hypotheses related to movie success that your stakeholder may want to know. Examples could include the length of the movie, release year, movie genre, etc."
   ]
  },
  {
   "cell_type": "markdown",
   "id": "a5ace599",
   "metadata": {},
   "source": [
    "Time Frame for Analysis:\n",
    "\n",
    "Analyze movies from the years 2015 to 2019."
   ]
  },
  {
   "cell_type": "markdown",
   "id": "d3ac66ee",
   "metadata": {},
   "source": [
    "**Deliverables:**\n",
    "\n",
    "1. Use the same project repository as Parts 1-3.\n",
    "2. Create a new notebook in your project repository specifically for hypothesis testing (e.g., \"Part 4 - Hypothesis Testing.ipynb\").\n",
    "3. Ensure that the results and visualizations for all three hypotheses are in your notebook.\n",
    "4. Submit the link to your GitHub repository for this assignment."
   ]
  },
  {
   "cell_type": "markdown",
   "id": "01d6501e",
   "metadata": {},
   "source": [
    "## Step 1: Load IMDb Data"
   ]
  },
  {
   "cell_type": "markdown",
   "id": "47fe8c9f",
   "metadata": {},
   "source": [
    "1.1 Import Necessary Libraries:"
   ]
  },
  {
   "cell_type": "code",
   "execution_count": null,
   "id": "a2ba7ce2",
   "metadata": {},
   "outputs": [],
   "source": []
  }
 ],
 "metadata": {
  "kernelspec": {
   "display_name": "Python (dojo-env)",
   "language": "python",
   "name": "dojo-env"
  },
  "language_info": {
   "codemirror_mode": {
    "name": "ipython",
    "version": 3
   },
   "file_extension": ".py",
   "mimetype": "text/x-python",
   "name": "python",
   "nbconvert_exporter": "python",
   "pygments_lexer": "ipython3",
   "version": "3.10.13"
  }
 },
 "nbformat": 4,
 "nbformat_minor": 5
}
