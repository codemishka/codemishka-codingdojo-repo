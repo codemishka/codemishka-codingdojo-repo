{
 "cells": [
  {
   "cell_type": "code",
   "execution_count": 12,
   "id": "2a4c2ee8",
   "metadata": {},
   "outputs": [],
   "source": [
    "basics_url=\"https://datasets.imdbws.com/title.basics.tsv.gz\"\n",
    "akas_url=\"https://datasets.imdbws.com/title.akas.tsv.gz\"\n",
    "ratings_url=\"https://datasets.imdbws.com/title.ratings.tsv.gz\""
   ]
  },
  {
   "cell_type": "code",
   "execution_count": 16,
   "id": "9c22b94a",
   "metadata": {},
   "outputs": [],
   "source": [
    "import pandas as pd\n",
    "import numpy as np\n"
   ]
  },
  {
   "cell_type": "code",
   "execution_count": 17,
   "id": "9aef8582",
   "metadata": {},
   "outputs": [],
   "source": [
    "basics = pd.read_csv(basics_url, sep='\\t', low_memory=False)\n",
    "akas=pd.read_csv(akas_url, sep='\\t', low_memory=False)\n",
    "ratings=pd.read_csv(ratings_url, sep='\\t', low_memory=False)"
   ]
  },
  {
   "cell_type": "code",
   "execution_count": 19,
   "id": "456610cc",
   "metadata": {},
   "outputs": [
    {
     "name": "stdout",
     "output_type": "stream",
     "text": [
      "      tconst titleType            primaryTitle           originalTitle  \\\n",
      "0  tt0000001     short              Carmencita              Carmencita   \n",
      "1  tt0000002     short  Le clown et ses chiens  Le clown et ses chiens   \n",
      "2  tt0000003     short          Pauvre Pierrot          Pauvre Pierrot   \n",
      "3  tt0000004     short             Un bon bock             Un bon bock   \n",
      "4  tt0000005     short        Blacksmith Scene        Blacksmith Scene   \n",
      "\n",
      "  isAdult startYear endYear runtimeMinutes                    genres  \n",
      "0       0      1894      \\N              1         Documentary,Short  \n",
      "1       0      1892      \\N              5           Animation,Short  \n",
      "2       0      1892      \\N              4  Animation,Comedy,Romance  \n",
      "3       0      1892      \\N             12           Animation,Short  \n",
      "4       0      1893      \\N              1              Comedy,Short  \n"
     ]
    }
   ],
   "source": [
    "print(basics.head())\n"
   ]
  },
  {
   "cell_type": "code",
   "execution_count": 22,
   "id": "769cb5f8",
   "metadata": {},
   "outputs": [],
   "source": [
    "basics.replace({'\\\\N': np.nan}, inplace=True)"
   ]
  },
  {
   "cell_type": "code",
   "execution_count": 23,
   "id": "c4a4d7e5",
   "metadata": {},
   "outputs": [],
   "source": [
    "basics = basics.dropna(subset=['runtimeMinutes'])"
   ]
  },
  {
   "cell_type": "code",
   "execution_count": 24,
   "id": "fc8d8bdb",
   "metadata": {},
   "outputs": [],
   "source": [
    "basics = basics.dropna(subset=['genres'])\n"
   ]
  },
  {
   "cell_type": "code",
   "execution_count": 25,
   "id": "a41966d8",
   "metadata": {},
   "outputs": [],
   "source": [
    "basics = basics[basics['titleType'] == 'movie']\n"
   ]
  },
  {
   "cell_type": "code",
   "execution_count": 27,
   "id": "f610726f",
   "metadata": {},
   "outputs": [],
   "source": [
    "# Keep records with startYear between 2000 and 2022\n",
    "basics['startYear'] = basics['startYear'].astype(float)  # Convert to float or int if there are decimal values\n",
    "basics = basics[(basics['startYear'] >= 2000) & (basics['startYear'] <= 2022)]\n"
   ]
  },
  {
   "cell_type": "code",
   "execution_count": 28,
   "id": "be1c62d7",
   "metadata": {},
   "outputs": [],
   "source": [
    "basics = basics[~basics['genres'].str.contains(\"Documentary\")]\n"
   ]
  },
  {
   "cell_type": "code",
   "execution_count": 29,
   "id": "ff498621",
   "metadata": {},
   "outputs": [],
   "source": [
    "us_movies = akas[akas['region'] == 'US']['titleId']\n",
    "basics = basics[basics['tconst'].isin(us_movies)]\n"
   ]
  },
  {
   "cell_type": "code",
   "execution_count": 30,
   "id": "86cb3470",
   "metadata": {},
   "outputs": [],
   "source": [
    "us_movies_akas = akas[akas['region'] == 'US']\n"
   ]
  },
  {
   "cell_type": "code",
   "execution_count": 32,
   "id": "568de9ba",
   "metadata": {},
   "outputs": [],
   "source": [
    "us_movies_akas = akas[akas['region'] == 'US'].copy()\n",
    "us_movies_akas.replace({'\\\\N': np.nan}, inplace=True)\n"
   ]
  },
  {
   "cell_type": "code",
   "execution_count": 33,
   "id": "cfd2bf44",
   "metadata": {},
   "outputs": [],
   "source": [
    "ratings.replace({'\\\\N': np.nan}, inplace=True)\n"
   ]
  },
  {
   "cell_type": "code",
   "execution_count": 34,
   "id": "38a96bf0",
   "metadata": {},
   "outputs": [],
   "source": [
    "us_ratings = ratings[ratings['tconst'].isin(us_movies_akas['titleId'])]"
   ]
  },
  {
   "cell_type": "code",
   "execution_count": 38,
   "id": "16c1d88a",
   "metadata": {},
   "outputs": [],
   "source": [
    "# Exclude movies that are included in the documentary category.\n",
    "is_documentary = basics['genres'].str.contains('documentary',case=False)\n",
    "basics = basics[~is_documentary]\n",
    "\n",
    "\n"
   ]
  },
  {
   "cell_type": "code",
   "execution_count": 39,
   "id": "62cc9aa8",
   "metadata": {},
   "outputs": [
    {
     "data": {
      "text/plain": [
       "34800       True\n",
       "61111       True\n",
       "67485       True\n",
       "67663       True\n",
       "80548       True\n",
       "            ... \n",
       "10282157    True\n",
       "10282551    True\n",
       "10282691    True\n",
       "10282700    True\n",
       "10282784    True\n",
       "Name: tconst, Length: 87410, dtype: bool"
      ]
     },
     "execution_count": 39,
     "metadata": {},
     "output_type": "execute_result"
    }
   ],
   "source": [
    "# Filter the basics table down to only include the US by using the filter akas dataframe\n",
    "keepers =basics['tconst'].isin(akas['titleId'])\n",
    "keepers\n",
    "\n"
   ]
  },
  {
   "cell_type": "code",
   "execution_count": 41,
   "id": "f458faaa",
   "metadata": {},
   "outputs": [
    {
     "data": {
      "text/html": [
       "<div>\n",
       "<style scoped>\n",
       "    .dataframe tbody tr th:only-of-type {\n",
       "        vertical-align: middle;\n",
       "    }\n",
       "\n",
       "    .dataframe tbody tr th {\n",
       "        vertical-align: top;\n",
       "    }\n",
       "\n",
       "    .dataframe thead th {\n",
       "        text-align: right;\n",
       "    }\n",
       "</style>\n",
       "<table border=\"1\" class=\"dataframe\">\n",
       "  <thead>\n",
       "    <tr style=\"text-align: right;\">\n",
       "      <th></th>\n",
       "      <th>tconst</th>\n",
       "      <th>titleType</th>\n",
       "      <th>primaryTitle</th>\n",
       "      <th>originalTitle</th>\n",
       "      <th>isAdult</th>\n",
       "      <th>startYear</th>\n",
       "      <th>endYear</th>\n",
       "      <th>runtimeMinutes</th>\n",
       "      <th>genres</th>\n",
       "    </tr>\n",
       "  </thead>\n",
       "  <tbody>\n",
       "    <tr>\n",
       "      <th>34800</th>\n",
       "      <td>tt0035423</td>\n",
       "      <td>movie</td>\n",
       "      <td>Kate &amp; Leopold</td>\n",
       "      <td>Kate &amp; Leopold</td>\n",
       "      <td>0</td>\n",
       "      <td>2001.0</td>\n",
       "      <td>NaN</td>\n",
       "      <td>118</td>\n",
       "      <td>Comedy,Fantasy,Romance</td>\n",
       "    </tr>\n",
       "    <tr>\n",
       "      <th>61111</th>\n",
       "      <td>tt0062336</td>\n",
       "      <td>movie</td>\n",
       "      <td>The Tango of the Widower and Its Distorting Mi...</td>\n",
       "      <td>El tango del viudo y su espejo deformante</td>\n",
       "      <td>0</td>\n",
       "      <td>2020.0</td>\n",
       "      <td>NaN</td>\n",
       "      <td>70</td>\n",
       "      <td>Drama</td>\n",
       "    </tr>\n",
       "    <tr>\n",
       "      <th>67485</th>\n",
       "      <td>tt0068865</td>\n",
       "      <td>movie</td>\n",
       "      <td>Lives of Performers</td>\n",
       "      <td>Lives of Performers</td>\n",
       "      <td>0</td>\n",
       "      <td>2016.0</td>\n",
       "      <td>NaN</td>\n",
       "      <td>90</td>\n",
       "      <td>Drama</td>\n",
       "    </tr>\n",
       "    <tr>\n",
       "      <th>67663</th>\n",
       "      <td>tt0069049</td>\n",
       "      <td>movie</td>\n",
       "      <td>The Other Side of the Wind</td>\n",
       "      <td>The Other Side of the Wind</td>\n",
       "      <td>0</td>\n",
       "      <td>2018.0</td>\n",
       "      <td>NaN</td>\n",
       "      <td>122</td>\n",
       "      <td>Drama</td>\n",
       "    </tr>\n",
       "    <tr>\n",
       "      <th>80548</th>\n",
       "      <td>tt0082328</td>\n",
       "      <td>movie</td>\n",
       "      <td>Embodiment of Evil</td>\n",
       "      <td>Encarnação do Demônio</td>\n",
       "      <td>0</td>\n",
       "      <td>2008.0</td>\n",
       "      <td>NaN</td>\n",
       "      <td>94</td>\n",
       "      <td>Horror</td>\n",
       "    </tr>\n",
       "    <tr>\n",
       "      <th>...</th>\n",
       "      <td>...</td>\n",
       "      <td>...</td>\n",
       "      <td>...</td>\n",
       "      <td>...</td>\n",
       "      <td>...</td>\n",
       "      <td>...</td>\n",
       "      <td>...</td>\n",
       "      <td>...</td>\n",
       "      <td>...</td>\n",
       "    </tr>\n",
       "    <tr>\n",
       "      <th>10282157</th>\n",
       "      <td>tt9914942</td>\n",
       "      <td>movie</td>\n",
       "      <td>Life Without Sara Amat</td>\n",
       "      <td>La vida sense la Sara Amat</td>\n",
       "      <td>0</td>\n",
       "      <td>2019.0</td>\n",
       "      <td>NaN</td>\n",
       "      <td>74</td>\n",
       "      <td>Drama</td>\n",
       "    </tr>\n",
       "    <tr>\n",
       "      <th>10282551</th>\n",
       "      <td>tt9915872</td>\n",
       "      <td>movie</td>\n",
       "      <td>The Last White Witch</td>\n",
       "      <td>Boku no kanojo wa mahoutsukai</td>\n",
       "      <td>0</td>\n",
       "      <td>2019.0</td>\n",
       "      <td>NaN</td>\n",
       "      <td>97</td>\n",
       "      <td>Comedy,Drama,Fantasy</td>\n",
       "    </tr>\n",
       "    <tr>\n",
       "      <th>10282691</th>\n",
       "      <td>tt9916170</td>\n",
       "      <td>movie</td>\n",
       "      <td>The Rehearsal</td>\n",
       "      <td>O Ensaio</td>\n",
       "      <td>0</td>\n",
       "      <td>2019.0</td>\n",
       "      <td>NaN</td>\n",
       "      <td>51</td>\n",
       "      <td>Drama</td>\n",
       "    </tr>\n",
       "    <tr>\n",
       "      <th>10282700</th>\n",
       "      <td>tt9916190</td>\n",
       "      <td>movie</td>\n",
       "      <td>Safeguard</td>\n",
       "      <td>Safeguard</td>\n",
       "      <td>0</td>\n",
       "      <td>2020.0</td>\n",
       "      <td>NaN</td>\n",
       "      <td>95</td>\n",
       "      <td>Action,Adventure,Thriller</td>\n",
       "    </tr>\n",
       "    <tr>\n",
       "      <th>10282784</th>\n",
       "      <td>tt9916362</td>\n",
       "      <td>movie</td>\n",
       "      <td>Coven</td>\n",
       "      <td>Akelarre</td>\n",
       "      <td>0</td>\n",
       "      <td>2020.0</td>\n",
       "      <td>NaN</td>\n",
       "      <td>92</td>\n",
       "      <td>Drama,History</td>\n",
       "    </tr>\n",
       "  </tbody>\n",
       "</table>\n",
       "<p>87410 rows × 9 columns</p>\n",
       "</div>"
      ],
      "text/plain": [
       "             tconst titleType  \\\n",
       "34800     tt0035423     movie   \n",
       "61111     tt0062336     movie   \n",
       "67485     tt0068865     movie   \n",
       "67663     tt0069049     movie   \n",
       "80548     tt0082328     movie   \n",
       "...             ...       ...   \n",
       "10282157  tt9914942     movie   \n",
       "10282551  tt9915872     movie   \n",
       "10282691  tt9916170     movie   \n",
       "10282700  tt9916190     movie   \n",
       "10282784  tt9916362     movie   \n",
       "\n",
       "                                               primaryTitle  \\\n",
       "34800                                        Kate & Leopold   \n",
       "61111     The Tango of the Widower and Its Distorting Mi...   \n",
       "67485                                   Lives of Performers   \n",
       "67663                            The Other Side of the Wind   \n",
       "80548                                    Embodiment of Evil   \n",
       "...                                                     ...   \n",
       "10282157                             Life Without Sara Amat   \n",
       "10282551                               The Last White Witch   \n",
       "10282691                                      The Rehearsal   \n",
       "10282700                                          Safeguard   \n",
       "10282784                                              Coven   \n",
       "\n",
       "                                      originalTitle isAdult  startYear  \\\n",
       "34800                                Kate & Leopold       0     2001.0   \n",
       "61111     El tango del viudo y su espejo deformante       0     2020.0   \n",
       "67485                           Lives of Performers       0     2016.0   \n",
       "67663                    The Other Side of the Wind       0     2018.0   \n",
       "80548                         Encarnação do Demônio       0     2008.0   \n",
       "...                                             ...     ...        ...   \n",
       "10282157                 La vida sense la Sara Amat       0     2019.0   \n",
       "10282551              Boku no kanojo wa mahoutsukai       0     2019.0   \n",
       "10282691                                   O Ensaio       0     2019.0   \n",
       "10282700                                  Safeguard       0     2020.0   \n",
       "10282784                                   Akelarre       0     2020.0   \n",
       "\n",
       "         endYear runtimeMinutes                     genres  \n",
       "34800        NaN            118     Comedy,Fantasy,Romance  \n",
       "61111        NaN             70                      Drama  \n",
       "67485        NaN             90                      Drama  \n",
       "67663        NaN            122                      Drama  \n",
       "80548        NaN             94                     Horror  \n",
       "...          ...            ...                        ...  \n",
       "10282157     NaN             74                      Drama  \n",
       "10282551     NaN             97       Comedy,Drama,Fantasy  \n",
       "10282691     NaN             51                      Drama  \n",
       "10282700     NaN             95  Action,Adventure,Thriller  \n",
       "10282784     NaN             92              Drama,History  \n",
       "\n",
       "[87410 rows x 9 columns]"
      ]
     },
     "execution_count": 41,
     "metadata": {},
     "output_type": "execute_result"
    }
   ],
   "source": [
    "basics = basics[keepers]\n",
    "basics"
   ]
  },
  {
   "cell_type": "code",
   "execution_count": null,
   "id": "2490fc26",
   "metadata": {},
   "outputs": [],
   "source": [
    "#Filtering one dataframe based on another"
   ]
  },
  {
   "cell_type": "code",
   "execution_count": 42,
   "id": "358c9830",
   "metadata": {},
   "outputs": [],
   "source": [
    "import os\n",
    "\n"
   ]
  },
  {
   "cell_type": "code",
   "execution_count": 43,
   "id": "0103506f",
   "metadata": {},
   "outputs": [],
   "source": [
    "data_folder = 'Data'\n",
    "os.makedirs(data_folder, exist_ok=True)\n"
   ]
  },
  {
   "cell_type": "code",
   "execution_count": 44,
   "id": "d498d200",
   "metadata": {},
   "outputs": [],
   "source": [
    "# Save 'basics' DataFrame to a CSV file\n",
    "basics.to_csv(os.path.join(data_folder, 'basics.csv'), index=False)\n",
    "\n",
    "# Save 'us_movies_akas' DataFrame to a CSV file\n",
    "us_movies_akas.to_csv(os.path.join(data_folder, 'us_movies_akas.csv'), index=False)\n",
    "\n",
    "# Save 'us_ratings' DataFrame to a CSV file\n",
    "us_ratings.to_csv(os.path.join(data_folder, 'us_ratings.csv'), index=False)\n"
   ]
  },
  {
   "cell_type": "code",
   "execution_count": 45,
   "id": "7e5291e5",
   "metadata": {},
   "outputs": [
    {
     "name": "stdout",
     "output_type": "stream",
     "text": [
      "C:\\Users\\X487669\\OneDrive - Old Mutual\\Documents\\GitHub\\codemishka-codingdojo-repo\n"
     ]
    }
   ],
   "source": [
    "current_directory = os.getcwd()\n",
    "print(current_directory)"
   ]
  },
  {
   "cell_type": "code",
   "execution_count": 47,
   "id": "6ec3f215",
   "metadata": {},
   "outputs": [],
   "source": [
    "# Save 'basics' DataFrame as a compressed .csv.gz file\n",
    "basics.to_csv(os.path.join(data_folder, 'basics.csv.gz'), index=False, compression=\"gzip\")\n",
    "\n",
    "# Save 'us_movies_akas' DataFrame as a compressed .csv.gz file\n",
    "us_movies_akas.to_csv(os.path.join(data_folder, 'us_movies_akas.csv.gz'), index=False, compression=\"gzip\")\n",
    "\n",
    "# Save 'us_ratings' DataFrame as a compressed .csv.gz file\n",
    "us_ratings.to_csv(os.path.join(data_folder, 'us_ratings.csv.gz'), index=False, compression=\"gzip\")\n",
    "\n"
   ]
  },
  {
   "cell_type": "code",
   "execution_count": 48,
   "id": "eac1f7eb",
   "metadata": {},
   "outputs": [
    {
     "name": "stdout",
     "output_type": "stream",
     "text": [
      "      tconst titleType                                       primaryTitle  \\\n",
      "0  tt0035423     movie                                     Kate & Leopold   \n",
      "1  tt0062336     movie  The Tango of the Widower and Its Distorting Mi...   \n",
      "2  tt0068865     movie                                Lives of Performers   \n",
      "3  tt0069049     movie                         The Other Side of the Wind   \n",
      "4  tt0082328     movie                                 Embodiment of Evil   \n",
      "\n",
      "                               originalTitle  isAdult  startYear  endYear  \\\n",
      "0                             Kate & Leopold        0     2001.0      NaN   \n",
      "1  El tango del viudo y su espejo deformante        0     2020.0      NaN   \n",
      "2                        Lives of Performers        0     2016.0      NaN   \n",
      "3                 The Other Side of the Wind        0     2018.0      NaN   \n",
      "4                      Encarnação do Demônio        0     2008.0      NaN   \n",
      "\n",
      "   runtimeMinutes                  genres  \n",
      "0             118  Comedy,Fantasy,Romance  \n",
      "1              70                   Drama  \n",
      "2              90                   Drama  \n",
      "3             122                   Drama  \n",
      "4              94                  Horror  \n",
      "     titleId  ordering                   title region language        types  \\\n",
      "0  tt0000001         6              Carmencita     US      NaN  imdbDisplay   \n",
      "1  tt0000002         7  The Clown and His Dogs     US      NaN          NaN   \n",
      "2  tt0000005        10        Blacksmith Scene     US      NaN  imdbDisplay   \n",
      "3  tt0000005         1     Blacksmithing Scene     US      NaN  alternative   \n",
      "4  tt0000005         6     Blacksmith Scene #1     US      NaN  alternative   \n",
      "\n",
      "              attributes  isOriginalTitle  \n",
      "0                    NaN              0.0  \n",
      "1  literal English title              0.0  \n",
      "2                    NaN              0.0  \n",
      "3                    NaN              0.0  \n",
      "4                    NaN              0.0  \n",
      "      tconst  averageRating  numVotes\n",
      "0  tt0000001            5.7      2004\n",
      "1  tt0000002            5.8       269\n",
      "2  tt0000005            6.2      2685\n",
      "3  tt0000006            5.0       183\n",
      "4  tt0000007            5.4       840\n"
     ]
    }
   ],
   "source": [
    "\n",
    "\n",
    "# Replace the original DataFrames by reading the saved files\n",
    "basics = pd.read_csv(os.path.join(data_folder, 'basics.csv.gz'), compression=\"gzip\")\n",
    "us_movies_akas = pd.read_csv(os.path.join(data_folder, 'us_movies_akas.csv.gz'), compression=\"gzip\")\n",
    "us_ratings = pd.read_csv(os.path.join(data_folder, 'us_ratings.csv.gz'), compression=\"gzip\")\n",
    "\n",
    "# Confirm that the data is correct\n",
    "print(basics.head())  # Replace 'basics' with the DataFrame you want to confirm\n",
    "print(us_movies_akas.head())  # Replace 'us_movies_akas' with the DataFrame you want to confirm\n",
    "print(us_ratings.head())  # Replace 'us_ratings' with the DataFrame you want to confirm\n"
   ]
  },
  {
   "cell_type": "code",
   "execution_count": null,
   "id": "9fef7a3c",
   "metadata": {},
   "outputs": [],
   "source": []
  }
 ],
 "metadata": {
  "kernelspec": {
   "display_name": "Python (dojo-env)",
   "language": "python",
   "name": "dojo-env"
  },
  "language_info": {
   "codemirror_mode": {
    "name": "ipython",
    "version": 3
   },
   "file_extension": ".py",
   "mimetype": "text/x-python",
   "name": "python",
   "nbconvert_exporter": "python",
   "pygments_lexer": "ipython3",
   "version": "3.10.13"
  }
 },
 "nbformat": 4,
 "nbformat_minor": 5
}
